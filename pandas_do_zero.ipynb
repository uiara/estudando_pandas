{
 "cells": [
  {
   "cell_type": "code",
   "execution_count": 2,
   "id": "417a4576-c2aa-4601-ab6c-4d5338d2af21",
   "metadata": {},
   "outputs": [],
   "source": [
    "import pandas as pd"
   ]
  },
  {
   "cell_type": "markdown",
   "id": "9902ba21-18d1-4d60-a751-6664740c09dd",
   "metadata": {},
   "source": [
    "# Series"
   ]
  },
  {
   "cell_type": "markdown",
   "id": "a1519b69-61fc-4ff0-bec3-c86536334820",
   "metadata": {},
   "source": [
    "Series é uma matriz rotulada unidimensional capaz de conter qualquer tipo de dados (inteiros, strings, números de ponto flutuante, objetos Python, etc.) Os rótulos dos eixos são chamados coletivamente de índice. O método básico para criar uma série é:"
   ]
  },
  {
   "cell_type": "code",
   "execution_count": 3,
   "id": "5fa8f2e1-15e8-4552-99fb-8e6bd1e8677b",
   "metadata": {},
   "outputs": [
    {
     "data": {
      "text/plain": [
       "1    a\n",
       "2    b\n",
       "3    c\n",
       "4    d\n",
       "Name: Random, dtype: object"
      ]
     },
     "execution_count": 3,
     "metadata": {},
     "output_type": "execute_result"
    }
   ],
   "source": [
    "pd.Series(['a','b','c','d'], index=[1,2,3,4], name='Random')"
   ]
  },
  {
   "cell_type": "code",
   "execution_count": 4,
   "id": "13b47b1e-d04a-46c3-958f-8570fc506362",
   "metadata": {},
   "outputs": [],
   "source": [
    "s1 = pd.Series(['a','b','c','d'], index=[1,2,3,4], name='Random')\n",
    "s2 = pd.Series(['e','f','g','h'], index=[1,2,3,4], name='Random2')"
   ]
  },
  {
   "cell_type": "markdown",
   "id": "088c2a66-4630-41a7-8243-dfc0a08fd8c8",
   "metadata": {},
   "source": [
    "# Dataframes\n"
   ]
  },
  {
   "cell_type": "markdown",
   "id": "39463c86-039a-4ab5-906e-d1fb4d65c8bf",
   "metadata": {},
   "source": [
    "\n",
    "DataFrame é uma estrutura de dados rotulada bidimensional com colunas de tipos potencialmente diferentes. Você pode pensar nisso como uma planilha ou tabela SQL, ou um dicionário de objetos Series. Geralmente é o objeto pandas mais comumente usado. Como o Series, o DataFrame aceita muitos tipos diferentes de entrada."
   ]
  },
  {
   "cell_type": "code",
   "execution_count": 5,
   "id": "f1a808a9-2b2f-4d15-bb39-eeadc255c11a",
   "metadata": {},
   "outputs": [
    {
     "data": {
      "text/html": [
       "<div>\n",
       "<style scoped>\n",
       "    .dataframe tbody tr th:only-of-type {\n",
       "        vertical-align: middle;\n",
       "    }\n",
       "\n",
       "    .dataframe tbody tr th {\n",
       "        vertical-align: top;\n",
       "    }\n",
       "\n",
       "    .dataframe thead th {\n",
       "        text-align: right;\n",
       "    }\n",
       "</style>\n",
       "<table border=\"1\" class=\"dataframe\">\n",
       "  <thead>\n",
       "    <tr style=\"text-align: right;\">\n",
       "      <th></th>\n",
       "      <th>1</th>\n",
       "      <th>2</th>\n",
       "      <th>3</th>\n",
       "      <th>4</th>\n",
       "    </tr>\n",
       "  </thead>\n",
       "  <tbody>\n",
       "    <tr>\n",
       "      <th>Random</th>\n",
       "      <td>a</td>\n",
       "      <td>b</td>\n",
       "      <td>c</td>\n",
       "      <td>d</td>\n",
       "    </tr>\n",
       "    <tr>\n",
       "      <th>Random2</th>\n",
       "      <td>e</td>\n",
       "      <td>f</td>\n",
       "      <td>g</td>\n",
       "      <td>h</td>\n",
       "    </tr>\n",
       "  </tbody>\n",
       "</table>\n",
       "</div>"
      ],
      "text/plain": [
       "         1  2  3  4\n",
       "Random   a  b  c  d\n",
       "Random2  e  f  g  h"
      ]
     },
     "execution_count": 5,
     "metadata": {},
     "output_type": "execute_result"
    }
   ],
   "source": [
    "pd.DataFrame([s1,s2])"
   ]
  },
  {
   "cell_type": "markdown",
   "id": "7fffaeda-7305-498c-aed6-8d49ef4f5e66",
   "metadata": {},
   "source": [
    "# Abrindo e exportado dados\n"
   ]
  },
  {
   "cell_type": "code",
   "execution_count": 6,
   "id": "b017ca2b-ed90-48ec-9083-27ca9dd50d3a",
   "metadata": {},
   "outputs": [],
   "source": [
    "covid = pd.read_csv(\"/home/bianca/Downloads/municipios.csv\")"
   ]
  },
  {
   "cell_type": "code",
   "execution_count": 7,
   "id": "91b6243c-f040-45c0-90c0-e0ba38fcd08c",
   "metadata": {},
   "outputs": [
    {
     "data": {
      "text/html": [
       "<div>\n",
       "<style scoped>\n",
       "    .dataframe tbody tr th:only-of-type {\n",
       "        vertical-align: middle;\n",
       "    }\n",
       "\n",
       "    .dataframe tbody tr th {\n",
       "        vertical-align: top;\n",
       "    }\n",
       "\n",
       "    .dataframe thead th {\n",
       "        text-align: right;\n",
       "    }\n",
       "</style>\n",
       "<table border=\"1\" class=\"dataframe\">\n",
       "  <thead>\n",
       "    <tr style=\"text-align: right;\">\n",
       "      <th></th>\n",
       "      <th>codigo_ibge</th>\n",
       "      <th>nome</th>\n",
       "      <th>latitude</th>\n",
       "      <th>longitude</th>\n",
       "      <th>capital</th>\n",
       "      <th>codigo_uf</th>\n",
       "    </tr>\n",
       "  </thead>\n",
       "  <tbody>\n",
       "    <tr>\n",
       "      <th>0</th>\n",
       "      <td>5200050</td>\n",
       "      <td>Abadia de Goiás</td>\n",
       "      <td>-16.7573</td>\n",
       "      <td>-49.4412</td>\n",
       "      <td>0</td>\n",
       "      <td>52</td>\n",
       "    </tr>\n",
       "    <tr>\n",
       "      <th>1</th>\n",
       "      <td>3100104</td>\n",
       "      <td>Abadia dos Dourados</td>\n",
       "      <td>-18.4831</td>\n",
       "      <td>-47.3916</td>\n",
       "      <td>0</td>\n",
       "      <td>31</td>\n",
       "    </tr>\n",
       "    <tr>\n",
       "      <th>2</th>\n",
       "      <td>5200100</td>\n",
       "      <td>Abadiânia</td>\n",
       "      <td>-16.1970</td>\n",
       "      <td>-48.7057</td>\n",
       "      <td>0</td>\n",
       "      <td>52</td>\n",
       "    </tr>\n",
       "  </tbody>\n",
       "</table>\n",
       "</div>"
      ],
      "text/plain": [
       "   codigo_ibge                 nome  latitude  longitude  capital  codigo_uf\n",
       "0      5200050      Abadia de Goiás  -16.7573   -49.4412        0         52\n",
       "1      3100104  Abadia dos Dourados  -18.4831   -47.3916        0         31\n",
       "2      5200100            Abadiânia  -16.1970   -48.7057        0         52"
      ]
     },
     "execution_count": 7,
     "metadata": {},
     "output_type": "execute_result"
    }
   ],
   "source": [
    "covid[:3]"
   ]
  },
  {
   "cell_type": "markdown",
   "id": "01c508ce-7fdc-4364-ac23-23ebf2d264dc",
   "metadata": {},
   "source": [
    "# Visualizando dados"
   ]
  },
  {
   "cell_type": "markdown",
   "id": "89b49b70-d3ab-4891-ab94-e08a688831d7",
   "metadata": {},
   "source": [
    "* head\n",
    "* tail\n",
    "* index\n",
    "* columns\n",
    "* describe\n",
    "* transposta"
   ]
  },
  {
   "cell_type": "code",
   "execution_count": 8,
   "id": "e35e1c9a-9006-4214-a0eb-1a831f2711b5",
   "metadata": {},
   "outputs": [
    {
     "data": {
      "text/html": [
       "<div>\n",
       "<style scoped>\n",
       "    .dataframe tbody tr th:only-of-type {\n",
       "        vertical-align: middle;\n",
       "    }\n",
       "\n",
       "    .dataframe tbody tr th {\n",
       "        vertical-align: top;\n",
       "    }\n",
       "\n",
       "    .dataframe thead th {\n",
       "        text-align: right;\n",
       "    }\n",
       "</style>\n",
       "<table border=\"1\" class=\"dataframe\">\n",
       "  <thead>\n",
       "    <tr style=\"text-align: right;\">\n",
       "      <th></th>\n",
       "      <th>codigo_ibge</th>\n",
       "      <th>nome</th>\n",
       "      <th>latitude</th>\n",
       "      <th>longitude</th>\n",
       "      <th>capital</th>\n",
       "      <th>codigo_uf</th>\n",
       "    </tr>\n",
       "  </thead>\n",
       "  <tbody>\n",
       "    <tr>\n",
       "      <th>0</th>\n",
       "      <td>5200050</td>\n",
       "      <td>Abadia de Goiás</td>\n",
       "      <td>-16.75730</td>\n",
       "      <td>-49.4412</td>\n",
       "      <td>0</td>\n",
       "      <td>52</td>\n",
       "    </tr>\n",
       "    <tr>\n",
       "      <th>1</th>\n",
       "      <td>3100104</td>\n",
       "      <td>Abadia dos Dourados</td>\n",
       "      <td>-18.48310</td>\n",
       "      <td>-47.3916</td>\n",
       "      <td>0</td>\n",
       "      <td>31</td>\n",
       "    </tr>\n",
       "    <tr>\n",
       "      <th>2</th>\n",
       "      <td>5200100</td>\n",
       "      <td>Abadiânia</td>\n",
       "      <td>-16.19700</td>\n",
       "      <td>-48.7057</td>\n",
       "      <td>0</td>\n",
       "      <td>52</td>\n",
       "    </tr>\n",
       "    <tr>\n",
       "      <th>3</th>\n",
       "      <td>3100203</td>\n",
       "      <td>Abaeté</td>\n",
       "      <td>-19.15510</td>\n",
       "      <td>-45.4444</td>\n",
       "      <td>0</td>\n",
       "      <td>31</td>\n",
       "    </tr>\n",
       "    <tr>\n",
       "      <th>4</th>\n",
       "      <td>1500107</td>\n",
       "      <td>Abaetetuba</td>\n",
       "      <td>-1.72183</td>\n",
       "      <td>-48.8788</td>\n",
       "      <td>0</td>\n",
       "      <td>15</td>\n",
       "    </tr>\n",
       "  </tbody>\n",
       "</table>\n",
       "</div>"
      ],
      "text/plain": [
       "   codigo_ibge                 nome  latitude  longitude  capital  codigo_uf\n",
       "0      5200050      Abadia de Goiás -16.75730   -49.4412        0         52\n",
       "1      3100104  Abadia dos Dourados -18.48310   -47.3916        0         31\n",
       "2      5200100            Abadiânia -16.19700   -48.7057        0         52\n",
       "3      3100203               Abaeté -19.15510   -45.4444        0         31\n",
       "4      1500107           Abaetetuba  -1.72183   -48.8788        0         15"
      ]
     },
     "execution_count": 8,
     "metadata": {},
     "output_type": "execute_result"
    }
   ],
   "source": [
    "covid.head() # mostra os 5 primeiros elementos ou a quantidade de números que for colocado entre os parênteses"
   ]
  },
  {
   "cell_type": "code",
   "execution_count": 9,
   "id": "97ce7eab-22ec-4a1b-9934-3dd886025d31",
   "metadata": {},
   "outputs": [
    {
     "data": {
      "text/html": [
       "<div>\n",
       "<style scoped>\n",
       "    .dataframe tbody tr th:only-of-type {\n",
       "        vertical-align: middle;\n",
       "    }\n",
       "\n",
       "    .dataframe tbody tr th {\n",
       "        vertical-align: top;\n",
       "    }\n",
       "\n",
       "    .dataframe thead th {\n",
       "        text-align: right;\n",
       "    }\n",
       "</style>\n",
       "<table border=\"1\" class=\"dataframe\">\n",
       "  <thead>\n",
       "    <tr style=\"text-align: right;\">\n",
       "      <th></th>\n",
       "      <th>codigo_ibge</th>\n",
       "      <th>nome</th>\n",
       "      <th>latitude</th>\n",
       "      <th>longitude</th>\n",
       "      <th>capital</th>\n",
       "      <th>codigo_uf</th>\n",
       "    </tr>\n",
       "  </thead>\n",
       "  <tbody>\n",
       "    <tr>\n",
       "      <th>5565</th>\n",
       "      <td>2933604</td>\n",
       "      <td>Xique-Xique</td>\n",
       "      <td>-10.82300</td>\n",
       "      <td>-42.7245</td>\n",
       "      <td>0</td>\n",
       "      <td>29</td>\n",
       "    </tr>\n",
       "    <tr>\n",
       "      <th>5566</th>\n",
       "      <td>2517407</td>\n",
       "      <td>Zabelê</td>\n",
       "      <td>-8.07901</td>\n",
       "      <td>-37.1057</td>\n",
       "      <td>0</td>\n",
       "      <td>25</td>\n",
       "    </tr>\n",
       "    <tr>\n",
       "      <th>5567</th>\n",
       "      <td>3557154</td>\n",
       "      <td>Zacarias</td>\n",
       "      <td>-21.05060</td>\n",
       "      <td>-50.0552</td>\n",
       "      <td>0</td>\n",
       "      <td>35</td>\n",
       "    </tr>\n",
       "    <tr>\n",
       "      <th>5568</th>\n",
       "      <td>2114007</td>\n",
       "      <td>Zé Doca</td>\n",
       "      <td>-3.27014</td>\n",
       "      <td>-45.6553</td>\n",
       "      <td>0</td>\n",
       "      <td>21</td>\n",
       "    </tr>\n",
       "    <tr>\n",
       "      <th>5569</th>\n",
       "      <td>4219853</td>\n",
       "      <td>Zortéa</td>\n",
       "      <td>-27.45210</td>\n",
       "      <td>-51.5520</td>\n",
       "      <td>0</td>\n",
       "      <td>42</td>\n",
       "    </tr>\n",
       "  </tbody>\n",
       "</table>\n",
       "</div>"
      ],
      "text/plain": [
       "      codigo_ibge         nome  latitude  longitude  capital  codigo_uf\n",
       "5565      2933604  Xique-Xique -10.82300   -42.7245        0         29\n",
       "5566      2517407       Zabelê  -8.07901   -37.1057        0         25\n",
       "5567      3557154     Zacarias -21.05060   -50.0552        0         35\n",
       "5568      2114007      Zé Doca  -3.27014   -45.6553        0         21\n",
       "5569      4219853       Zortéa -27.45210   -51.5520        0         42"
      ]
     },
     "execution_count": 9,
     "metadata": {},
     "output_type": "execute_result"
    }
   ],
   "source": [
    "covid.tail() # mostra os 5 últimos elementos ou a quantidade de números que for colocado entre os parênteses, mas sempre do final para o começo"
   ]
  },
  {
   "cell_type": "code",
   "execution_count": 10,
   "id": "601f6070-aa72-4985-b18e-b0b2e307c61b",
   "metadata": {},
   "outputs": [
    {
     "data": {
      "text/plain": [
       "RangeIndex(start=0, stop=5570, step=1)"
      ]
     },
     "execution_count": 10,
     "metadata": {},
     "output_type": "execute_result"
    }
   ],
   "source": [
    "covid.index #pega o index do dataframe"
   ]
  },
  {
   "cell_type": "code",
   "execution_count": 11,
   "id": "7f6618cb-4ae8-46a2-b2df-d60a01a9ad13",
   "metadata": {},
   "outputs": [
    {
     "data": {
      "text/plain": [
       "Index(['codigo_ibge', 'nome', 'latitude', 'longitude', 'capital', 'codigo_uf'], dtype='object')"
      ]
     },
     "execution_count": 11,
     "metadata": {},
     "output_type": "execute_result"
    }
   ],
   "source": [
    "covid.columns # ver o nome das colunas que tem nos dados"
   ]
  },
  {
   "cell_type": "code",
   "execution_count": 12,
   "id": "6630d3fe-ea43-4526-b5a8-fc7b9b9cb924",
   "metadata": {},
   "outputs": [
    {
     "data": {
      "text/plain": [
       "array(['codigo_ibge', 'nome', 'latitude', 'longitude', 'capital',\n",
       "       'codigo_uf'], dtype=object)"
      ]
     },
     "execution_count": 12,
     "metadata": {},
     "output_type": "execute_result"
    }
   ],
   "source": [
    "covid.columns.values # values, possibilita transforma em um array # ver o nome das colunas que tem nos dados"
   ]
  },
  {
   "cell_type": "code",
   "execution_count": 13,
   "id": "b19fc2b6-8ef9-4f74-b365-e36929bdbda1",
   "metadata": {},
   "outputs": [
    {
     "data": {
      "text/html": [
       "<div>\n",
       "<style scoped>\n",
       "    .dataframe tbody tr th:only-of-type {\n",
       "        vertical-align: middle;\n",
       "    }\n",
       "\n",
       "    .dataframe tbody tr th {\n",
       "        vertical-align: top;\n",
       "    }\n",
       "\n",
       "    .dataframe thead th {\n",
       "        text-align: right;\n",
       "    }\n",
       "</style>\n",
       "<table border=\"1\" class=\"dataframe\">\n",
       "  <thead>\n",
       "    <tr style=\"text-align: right;\">\n",
       "      <th></th>\n",
       "      <th>codigo_ibge</th>\n",
       "      <th>latitude</th>\n",
       "      <th>longitude</th>\n",
       "      <th>capital</th>\n",
       "      <th>codigo_uf</th>\n",
       "    </tr>\n",
       "  </thead>\n",
       "  <tbody>\n",
       "    <tr>\n",
       "      <th>count</th>\n",
       "      <td>5.570000e+03</td>\n",
       "      <td>5570.000000</td>\n",
       "      <td>5570.000000</td>\n",
       "      <td>5570.000000</td>\n",
       "      <td>5570.000000</td>\n",
       "    </tr>\n",
       "    <tr>\n",
       "      <th>mean</th>\n",
       "      <td>3.253591e+06</td>\n",
       "      <td>-16.449144</td>\n",
       "      <td>-46.231003</td>\n",
       "      <td>0.004847</td>\n",
       "      <td>32.377738</td>\n",
       "    </tr>\n",
       "    <tr>\n",
       "      <th>std</th>\n",
       "      <td>9.849103e+05</td>\n",
       "      <td>8.287237</td>\n",
       "      <td>6.408539</td>\n",
       "      <td>0.069461</td>\n",
       "      <td>9.833862</td>\n",
       "    </tr>\n",
       "    <tr>\n",
       "      <th>min</th>\n",
       "      <td>1.100015e+06</td>\n",
       "      <td>-33.686600</td>\n",
       "      <td>-72.899700</td>\n",
       "      <td>0.000000</td>\n",
       "      <td>11.000000</td>\n",
       "    </tr>\n",
       "    <tr>\n",
       "      <th>25%</th>\n",
       "      <td>2.512126e+06</td>\n",
       "      <td>-22.843875</td>\n",
       "      <td>-50.878525</td>\n",
       "      <td>0.000000</td>\n",
       "      <td>25.000000</td>\n",
       "    </tr>\n",
       "    <tr>\n",
       "      <th>50%</th>\n",
       "      <td>3.146280e+06</td>\n",
       "      <td>-18.094300</td>\n",
       "      <td>-46.523200</td>\n",
       "      <td>0.000000</td>\n",
       "      <td>31.000000</td>\n",
       "    </tr>\n",
       "    <tr>\n",
       "      <th>75%</th>\n",
       "      <td>4.119190e+06</td>\n",
       "      <td>-8.496445</td>\n",
       "      <td>-41.410775</td>\n",
       "      <td>0.000000</td>\n",
       "      <td>41.000000</td>\n",
       "    </tr>\n",
       "    <tr>\n",
       "      <th>max</th>\n",
       "      <td>5.300108e+06</td>\n",
       "      <td>4.603140</td>\n",
       "      <td>-32.410700</td>\n",
       "      <td>1.000000</td>\n",
       "      <td>53.000000</td>\n",
       "    </tr>\n",
       "  </tbody>\n",
       "</table>\n",
       "</div>"
      ],
      "text/plain": [
       "        codigo_ibge     latitude    longitude      capital    codigo_uf\n",
       "count  5.570000e+03  5570.000000  5570.000000  5570.000000  5570.000000\n",
       "mean   3.253591e+06   -16.449144   -46.231003     0.004847    32.377738\n",
       "std    9.849103e+05     8.287237     6.408539     0.069461     9.833862\n",
       "min    1.100015e+06   -33.686600   -72.899700     0.000000    11.000000\n",
       "25%    2.512126e+06   -22.843875   -50.878525     0.000000    25.000000\n",
       "50%    3.146280e+06   -18.094300   -46.523200     0.000000    31.000000\n",
       "75%    4.119190e+06    -8.496445   -41.410775     0.000000    41.000000\n",
       "max    5.300108e+06     4.603140   -32.410700     1.000000    53.000000"
      ]
     },
     "execution_count": 13,
     "metadata": {},
     "output_type": "execute_result"
    }
   ],
   "source": [
    "covid.describe() # mostra as informações descritivas dos dados"
   ]
  },
  {
   "cell_type": "code",
   "execution_count": 14,
   "id": "1e5e1826-c32d-4ddb-ac20-24fe2be1a68d",
   "metadata": {},
   "outputs": [
    {
     "data": {
      "text/html": [
       "<div>\n",
       "<style scoped>\n",
       "    .dataframe tbody tr th:only-of-type {\n",
       "        vertical-align: middle;\n",
       "    }\n",
       "\n",
       "    .dataframe tbody tr th {\n",
       "        vertical-align: top;\n",
       "    }\n",
       "\n",
       "    .dataframe thead th {\n",
       "        text-align: right;\n",
       "    }\n",
       "</style>\n",
       "<table border=\"1\" class=\"dataframe\">\n",
       "  <thead>\n",
       "    <tr style=\"text-align: right;\">\n",
       "      <th></th>\n",
       "      <th>0</th>\n",
       "      <th>1</th>\n",
       "      <th>2</th>\n",
       "      <th>3</th>\n",
       "      <th>4</th>\n",
       "      <th>5</th>\n",
       "      <th>6</th>\n",
       "      <th>7</th>\n",
       "      <th>8</th>\n",
       "      <th>9</th>\n",
       "      <th>...</th>\n",
       "      <th>5560</th>\n",
       "      <th>5561</th>\n",
       "      <th>5562</th>\n",
       "      <th>5563</th>\n",
       "      <th>5564</th>\n",
       "      <th>5565</th>\n",
       "      <th>5566</th>\n",
       "      <th>5567</th>\n",
       "      <th>5568</th>\n",
       "      <th>5569</th>\n",
       "    </tr>\n",
       "  </thead>\n",
       "  <tbody>\n",
       "    <tr>\n",
       "      <th>codigo_ibge</th>\n",
       "      <td>5200050</td>\n",
       "      <td>3100104</td>\n",
       "      <td>5200100</td>\n",
       "      <td>3100203</td>\n",
       "      <td>1500107</td>\n",
       "      <td>2300101</td>\n",
       "      <td>2900108</td>\n",
       "      <td>2900207</td>\n",
       "      <td>4100103</td>\n",
       "      <td>4200051</td>\n",
       "      <td>...</td>\n",
       "      <td>1200708</td>\n",
       "      <td>4219606</td>\n",
       "      <td>4219705</td>\n",
       "      <td>2616506</td>\n",
       "      <td>1508407</td>\n",
       "      <td>2933604</td>\n",
       "      <td>2517407</td>\n",
       "      <td>3557154</td>\n",
       "      <td>2114007</td>\n",
       "      <td>4219853</td>\n",
       "    </tr>\n",
       "    <tr>\n",
       "      <th>nome</th>\n",
       "      <td>Abadia de Goiás</td>\n",
       "      <td>Abadia dos Dourados</td>\n",
       "      <td>Abadiânia</td>\n",
       "      <td>Abaeté</td>\n",
       "      <td>Abaetetuba</td>\n",
       "      <td>Abaiara</td>\n",
       "      <td>Abaíra</td>\n",
       "      <td>Abaré</td>\n",
       "      <td>Abatiá</td>\n",
       "      <td>Abdon Batista</td>\n",
       "      <td>...</td>\n",
       "      <td>Xapuri</td>\n",
       "      <td>Xavantina</td>\n",
       "      <td>Xaxim</td>\n",
       "      <td>Xexéu</td>\n",
       "      <td>Xinguara</td>\n",
       "      <td>Xique-Xique</td>\n",
       "      <td>Zabelê</td>\n",
       "      <td>Zacarias</td>\n",
       "      <td>Zé Doca</td>\n",
       "      <td>Zortéa</td>\n",
       "    </tr>\n",
       "    <tr>\n",
       "      <th>latitude</th>\n",
       "      <td>-16.7573</td>\n",
       "      <td>-18.4831</td>\n",
       "      <td>-16.197</td>\n",
       "      <td>-19.1551</td>\n",
       "      <td>-1.72183</td>\n",
       "      <td>-7.34588</td>\n",
       "      <td>-13.2488</td>\n",
       "      <td>-8.72073</td>\n",
       "      <td>-23.3049</td>\n",
       "      <td>-27.6126</td>\n",
       "      <td>...</td>\n",
       "      <td>-10.6516</td>\n",
       "      <td>-27.0667</td>\n",
       "      <td>-26.9596</td>\n",
       "      <td>-8.8046</td>\n",
       "      <td>-7.0983</td>\n",
       "      <td>-10.823</td>\n",
       "      <td>-8.07901</td>\n",
       "      <td>-21.0506</td>\n",
       "      <td>-3.27014</td>\n",
       "      <td>-27.4521</td>\n",
       "    </tr>\n",
       "    <tr>\n",
       "      <th>longitude</th>\n",
       "      <td>-49.4412</td>\n",
       "      <td>-47.3916</td>\n",
       "      <td>-48.7057</td>\n",
       "      <td>-45.4444</td>\n",
       "      <td>-48.8788</td>\n",
       "      <td>-39.0416</td>\n",
       "      <td>-41.6619</td>\n",
       "      <td>-39.1162</td>\n",
       "      <td>-50.3133</td>\n",
       "      <td>-51.0233</td>\n",
       "      <td>...</td>\n",
       "      <td>-68.4969</td>\n",
       "      <td>-52.343</td>\n",
       "      <td>-52.5374</td>\n",
       "      <td>-35.6212</td>\n",
       "      <td>-49.9437</td>\n",
       "      <td>-42.7245</td>\n",
       "      <td>-37.1057</td>\n",
       "      <td>-50.0552</td>\n",
       "      <td>-45.6553</td>\n",
       "      <td>-51.552</td>\n",
       "    </tr>\n",
       "    <tr>\n",
       "      <th>capital</th>\n",
       "      <td>0</td>\n",
       "      <td>0</td>\n",
       "      <td>0</td>\n",
       "      <td>0</td>\n",
       "      <td>0</td>\n",
       "      <td>0</td>\n",
       "      <td>0</td>\n",
       "      <td>0</td>\n",
       "      <td>0</td>\n",
       "      <td>0</td>\n",
       "      <td>...</td>\n",
       "      <td>0</td>\n",
       "      <td>0</td>\n",
       "      <td>0</td>\n",
       "      <td>0</td>\n",
       "      <td>0</td>\n",
       "      <td>0</td>\n",
       "      <td>0</td>\n",
       "      <td>0</td>\n",
       "      <td>0</td>\n",
       "      <td>0</td>\n",
       "    </tr>\n",
       "    <tr>\n",
       "      <th>codigo_uf</th>\n",
       "      <td>52</td>\n",
       "      <td>31</td>\n",
       "      <td>52</td>\n",
       "      <td>31</td>\n",
       "      <td>15</td>\n",
       "      <td>23</td>\n",
       "      <td>29</td>\n",
       "      <td>29</td>\n",
       "      <td>41</td>\n",
       "      <td>42</td>\n",
       "      <td>...</td>\n",
       "      <td>12</td>\n",
       "      <td>42</td>\n",
       "      <td>42</td>\n",
       "      <td>26</td>\n",
       "      <td>15</td>\n",
       "      <td>29</td>\n",
       "      <td>25</td>\n",
       "      <td>35</td>\n",
       "      <td>21</td>\n",
       "      <td>42</td>\n",
       "    </tr>\n",
       "  </tbody>\n",
       "</table>\n",
       "<p>6 rows × 5570 columns</p>\n",
       "</div>"
      ],
      "text/plain": [
       "                        0                    1          2        3     \\\n",
       "codigo_ibge          5200050              3100104    5200100  3100203   \n",
       "nome         Abadia de Goiás  Abadia dos Dourados  Abadiânia   Abaeté   \n",
       "latitude            -16.7573             -18.4831    -16.197 -19.1551   \n",
       "longitude           -49.4412             -47.3916   -48.7057 -45.4444   \n",
       "capital                    0                    0          0        0   \n",
       "codigo_uf                 52                   31         52       31   \n",
       "\n",
       "                   4        5        6        7        8              9     \\\n",
       "codigo_ibge     1500107  2300101  2900108  2900207  4100103        4200051   \n",
       "nome         Abaetetuba  Abaiara   Abaíra    Abaré   Abatiá  Abdon Batista   \n",
       "latitude       -1.72183 -7.34588 -13.2488 -8.72073 -23.3049       -27.6126   \n",
       "longitude      -48.8788 -39.0416 -41.6619 -39.1162 -50.3133       -51.0233   \n",
       "capital               0        0        0        0        0              0   \n",
       "codigo_uf            15       23       29       29       41             42   \n",
       "\n",
       "             ...     5560       5561     5562     5563      5564         5565  \\\n",
       "codigo_ibge  ...  1200708    4219606  4219705  2616506   1508407      2933604   \n",
       "nome         ...   Xapuri  Xavantina    Xaxim    Xexéu  Xinguara  Xique-Xique   \n",
       "latitude     ... -10.6516   -27.0667 -26.9596  -8.8046   -7.0983      -10.823   \n",
       "longitude    ... -68.4969    -52.343 -52.5374 -35.6212  -49.9437     -42.7245   \n",
       "capital      ...        0          0        0        0         0            0   \n",
       "codigo_uf    ...       12         42       42       26        15           29   \n",
       "\n",
       "                5566      5567     5568     5569  \n",
       "codigo_ibge  2517407   3557154  2114007  4219853  \n",
       "nome          Zabelê  Zacarias  Zé Doca   Zortéa  \n",
       "latitude    -8.07901  -21.0506 -3.27014 -27.4521  \n",
       "longitude   -37.1057  -50.0552 -45.6553  -51.552  \n",
       "capital            0         0        0        0  \n",
       "codigo_uf         25        35       21       42  \n",
       "\n",
       "[6 rows x 5570 columns]"
      ]
     },
     "execution_count": 14,
     "metadata": {},
     "output_type": "execute_result"
    }
   ],
   "source": [
    "covid.T # inverte linhas e colunas"
   ]
  },
  {
   "cell_type": "code",
   "execution_count": 15,
   "id": "ddaa4335-c33d-4d3e-9c83-55289e518a32",
   "metadata": {},
   "outputs": [
    {
     "data": {
      "text/html": [
       "<div>\n",
       "<style scoped>\n",
       "    .dataframe tbody tr th:only-of-type {\n",
       "        vertical-align: middle;\n",
       "    }\n",
       "\n",
       "    .dataframe tbody tr th {\n",
       "        vertical-align: top;\n",
       "    }\n",
       "\n",
       "    .dataframe thead th {\n",
       "        text-align: right;\n",
       "    }\n",
       "</style>\n",
       "<table border=\"1\" class=\"dataframe\">\n",
       "  <thead>\n",
       "    <tr style=\"text-align: right;\">\n",
       "      <th></th>\n",
       "      <th>codigo_ibge</th>\n",
       "      <th>nome</th>\n",
       "      <th>latitude</th>\n",
       "      <th>longitude</th>\n",
       "      <th>capital</th>\n",
       "      <th>codigo_uf</th>\n",
       "    </tr>\n",
       "  </thead>\n",
       "  <tbody>\n",
       "    <tr>\n",
       "      <th>0</th>\n",
       "      <td>5200050</td>\n",
       "      <td>Abadia de Goiás</td>\n",
       "      <td>-16.7573</td>\n",
       "      <td>-49.4412</td>\n",
       "      <td>0</td>\n",
       "      <td>52</td>\n",
       "    </tr>\n",
       "    <tr>\n",
       "      <th>1</th>\n",
       "      <td>3100104</td>\n",
       "      <td>Abadia dos Dourados</td>\n",
       "      <td>-18.4831</td>\n",
       "      <td>-47.3916</td>\n",
       "      <td>0</td>\n",
       "      <td>31</td>\n",
       "    </tr>\n",
       "    <tr>\n",
       "      <th>2</th>\n",
       "      <td>5200100</td>\n",
       "      <td>Abadiânia</td>\n",
       "      <td>-16.1970</td>\n",
       "      <td>-48.7057</td>\n",
       "      <td>0</td>\n",
       "      <td>52</td>\n",
       "    </tr>\n",
       "  </tbody>\n",
       "</table>\n",
       "</div>"
      ],
      "text/plain": [
       "   codigo_ibge                 nome  latitude  longitude  capital  codigo_uf\n",
       "0      5200050      Abadia de Goiás  -16.7573   -49.4412        0         52\n",
       "1      3100104  Abadia dos Dourados  -18.4831   -47.3916        0         31\n",
       "2      5200100            Abadiânia  -16.1970   -48.7057        0         52"
      ]
     },
     "execution_count": 15,
     "metadata": {},
     "output_type": "execute_result"
    }
   ],
   "source": [
    "covid[:3] # seleciona parte dos dados"
   ]
  },
  {
   "cell_type": "code",
   "execution_count": 17,
   "id": "ee3e9f15-6b76-40d6-baeb-4fd7b5f1d92c",
   "metadata": {},
   "outputs": [
    {
     "data": {
      "text/plain": [
       "0           Abadia de Goiás\n",
       "1       Abadia dos Dourados\n",
       "2                 Abadiânia\n",
       "3                    Abaeté\n",
       "4                Abaetetuba\n",
       "               ...         \n",
       "5565            Xique-Xique\n",
       "5566                 Zabelê\n",
       "5567               Zacarias\n",
       "5568                Zé Doca\n",
       "5569                 Zortéa\n",
       "Name: nome, Length: 5570, dtype: object"
      ]
     },
     "execution_count": 17,
     "metadata": {},
     "output_type": "execute_result"
    }
   ],
   "source": [
    "covid[\"nome\"] # seleção por coluna"
   ]
  },
  {
   "cell_type": "code",
   "execution_count": 18,
   "id": "a74a21bd-283d-4baa-8c42-1011e1420ec0",
   "metadata": {},
   "outputs": [
    {
     "data": {
      "text/html": [
       "<div>\n",
       "<style scoped>\n",
       "    .dataframe tbody tr th:only-of-type {\n",
       "        vertical-align: middle;\n",
       "    }\n",
       "\n",
       "    .dataframe tbody tr th {\n",
       "        vertical-align: top;\n",
       "    }\n",
       "\n",
       "    .dataframe thead th {\n",
       "        text-align: right;\n",
       "    }\n",
       "</style>\n",
       "<table border=\"1\" class=\"dataframe\">\n",
       "  <thead>\n",
       "    <tr style=\"text-align: right;\">\n",
       "      <th></th>\n",
       "      <th>nome</th>\n",
       "      <th>capital</th>\n",
       "    </tr>\n",
       "  </thead>\n",
       "  <tbody>\n",
       "    <tr>\n",
       "      <th>0</th>\n",
       "      <td>Abadia de Goiás</td>\n",
       "      <td>0</td>\n",
       "    </tr>\n",
       "    <tr>\n",
       "      <th>1</th>\n",
       "      <td>Abadia dos Dourados</td>\n",
       "      <td>0</td>\n",
       "    </tr>\n",
       "    <tr>\n",
       "      <th>2</th>\n",
       "      <td>Abadiânia</td>\n",
       "      <td>0</td>\n",
       "    </tr>\n",
       "    <tr>\n",
       "      <th>3</th>\n",
       "      <td>Abaeté</td>\n",
       "      <td>0</td>\n",
       "    </tr>\n",
       "    <tr>\n",
       "      <th>4</th>\n",
       "      <td>Abaetetuba</td>\n",
       "      <td>0</td>\n",
       "    </tr>\n",
       "    <tr>\n",
       "      <th>...</th>\n",
       "      <td>...</td>\n",
       "      <td>...</td>\n",
       "    </tr>\n",
       "    <tr>\n",
       "      <th>5565</th>\n",
       "      <td>Xique-Xique</td>\n",
       "      <td>0</td>\n",
       "    </tr>\n",
       "    <tr>\n",
       "      <th>5566</th>\n",
       "      <td>Zabelê</td>\n",
       "      <td>0</td>\n",
       "    </tr>\n",
       "    <tr>\n",
       "      <th>5567</th>\n",
       "      <td>Zacarias</td>\n",
       "      <td>0</td>\n",
       "    </tr>\n",
       "    <tr>\n",
       "      <th>5568</th>\n",
       "      <td>Zé Doca</td>\n",
       "      <td>0</td>\n",
       "    </tr>\n",
       "    <tr>\n",
       "      <th>5569</th>\n",
       "      <td>Zortéa</td>\n",
       "      <td>0</td>\n",
       "    </tr>\n",
       "  </tbody>\n",
       "</table>\n",
       "<p>5570 rows × 2 columns</p>\n",
       "</div>"
      ],
      "text/plain": [
       "                     nome  capital\n",
       "0         Abadia de Goiás        0\n",
       "1     Abadia dos Dourados        0\n",
       "2               Abadiânia        0\n",
       "3                  Abaeté        0\n",
       "4              Abaetetuba        0\n",
       "...                   ...      ...\n",
       "5565          Xique-Xique        0\n",
       "5566               Zabelê        0\n",
       "5567             Zacarias        0\n",
       "5568              Zé Doca        0\n",
       "5569               Zortéa        0\n",
       "\n",
       "[5570 rows x 2 columns]"
      ]
     },
     "execution_count": 18,
     "metadata": {},
     "output_type": "execute_result"
    }
   ],
   "source": [
    "covid.loc[:,[\"nome\",\"capital\"]] #covid.loc[linhas,[colunas]]"
   ]
  },
  {
   "cell_type": "code",
   "execution_count": 19,
   "id": "2b71a084-1a9e-4ba0-ab3b-6d81669d5a50",
   "metadata": {},
   "outputs": [
    {
     "data": {
      "text/plain": [
       "codigo_ibge            5200050\n",
       "nome           Abadia de Goiás\n",
       "latitude              -16.7573\n",
       "longitude             -49.4412\n",
       "capital                      0\n",
       "codigo_uf                   52\n",
       "Name: 0, dtype: object"
      ]
     },
     "execution_count": 19,
     "metadata": {},
     "output_type": "execute_result"
    }
   ],
   "source": [
    "covid.iloc[0] #seleciona linha"
   ]
  },
  {
   "cell_type": "code",
   "execution_count": 23,
   "id": "8b3c3d09-a4c0-4b08-a165-63d4fd3cf205",
   "metadata": {},
   "outputs": [
    {
     "data": {
      "text/html": [
       "<div>\n",
       "<style scoped>\n",
       "    .dataframe tbody tr th:only-of-type {\n",
       "        vertical-align: middle;\n",
       "    }\n",
       "\n",
       "    .dataframe tbody tr th {\n",
       "        vertical-align: top;\n",
       "    }\n",
       "\n",
       "    .dataframe thead th {\n",
       "        text-align: right;\n",
       "    }\n",
       "</style>\n",
       "<table border=\"1\" class=\"dataframe\">\n",
       "  <thead>\n",
       "    <tr style=\"text-align: right;\">\n",
       "      <th></th>\n",
       "      <th>latitude</th>\n",
       "      <th>longitude</th>\n",
       "    </tr>\n",
       "  </thead>\n",
       "  <tbody>\n",
       "    <tr>\n",
       "      <th>0</th>\n",
       "      <td>-16.7573</td>\n",
       "      <td>-49.4412</td>\n",
       "    </tr>\n",
       "    <tr>\n",
       "      <th>1</th>\n",
       "      <td>-18.4831</td>\n",
       "      <td>-47.3916</td>\n",
       "    </tr>\n",
       "    <tr>\n",
       "      <th>2</th>\n",
       "      <td>-16.1970</td>\n",
       "      <td>-48.7057</td>\n",
       "    </tr>\n",
       "  </tbody>\n",
       "</table>\n",
       "</div>"
      ],
      "text/plain": [
       "   latitude  longitude\n",
       "0  -16.7573   -49.4412\n",
       "1  -18.4831   -47.3916\n",
       "2  -16.1970   -48.7057"
      ]
     },
     "execution_count": 23,
     "metadata": {},
     "output_type": "execute_result"
    }
   ],
   "source": [
    "covid.iloc[:3,2:4] #covid.iloc[linha,coluna] # matriz"
   ]
  },
  {
   "cell_type": "markdown",
   "id": "bdfaf6a6-c1a7-4cbd-a0da-baf52a792ab0",
   "metadata": {},
   "source": [
    "## Indexação Boolena"
   ]
  },
  {
   "cell_type": "code",
   "execution_count": 25,
   "id": "1fcbb497-f99b-4ce9-9bd0-9fd9189089ab",
   "metadata": {},
   "outputs": [
    {
     "data": {
      "text/html": [
       "<div>\n",
       "<style scoped>\n",
       "    .dataframe tbody tr th:only-of-type {\n",
       "        vertical-align: middle;\n",
       "    }\n",
       "\n",
       "    .dataframe tbody tr th {\n",
       "        vertical-align: top;\n",
       "    }\n",
       "\n",
       "    .dataframe thead th {\n",
       "        text-align: right;\n",
       "    }\n",
       "</style>\n",
       "<table border=\"1\" class=\"dataframe\">\n",
       "  <thead>\n",
       "    <tr style=\"text-align: right;\">\n",
       "      <th></th>\n",
       "      <th>codigo_ibge</th>\n",
       "      <th>nome</th>\n",
       "      <th>latitude</th>\n",
       "      <th>longitude</th>\n",
       "      <th>capital</th>\n",
       "      <th>codigo_uf</th>\n",
       "    </tr>\n",
       "  </thead>\n",
       "  <tbody>\n",
       "    <tr>\n",
       "      <th>0</th>\n",
       "      <td>5200050</td>\n",
       "      <td>Abadia de Goiás</td>\n",
       "      <td>-16.7573</td>\n",
       "      <td>-49.4412</td>\n",
       "      <td>0</td>\n",
       "      <td>52</td>\n",
       "    </tr>\n",
       "    <tr>\n",
       "      <th>2</th>\n",
       "      <td>5200100</td>\n",
       "      <td>Abadiânia</td>\n",
       "      <td>-16.1970</td>\n",
       "      <td>-48.7057</td>\n",
       "      <td>0</td>\n",
       "      <td>52</td>\n",
       "    </tr>\n",
       "    <tr>\n",
       "      <th>27</th>\n",
       "      <td>5200134</td>\n",
       "      <td>Acreúna</td>\n",
       "      <td>-17.3960</td>\n",
       "      <td>-50.3749</td>\n",
       "      <td>0</td>\n",
       "      <td>52</td>\n",
       "    </tr>\n",
       "    <tr>\n",
       "      <th>31</th>\n",
       "      <td>5200159</td>\n",
       "      <td>Adelândia</td>\n",
       "      <td>-16.4127</td>\n",
       "      <td>-50.1657</td>\n",
       "      <td>0</td>\n",
       "      <td>52</td>\n",
       "    </tr>\n",
       "    <tr>\n",
       "      <th>57</th>\n",
       "      <td>5200175</td>\n",
       "      <td>Água Fria de Goiás</td>\n",
       "      <td>-14.9778</td>\n",
       "      <td>-47.7823</td>\n",
       "      <td>0</td>\n",
       "      <td>52</td>\n",
       "    </tr>\n",
       "    <tr>\n",
       "      <th>...</th>\n",
       "      <td>...</td>\n",
       "      <td>...</td>\n",
       "      <td>...</td>\n",
       "      <td>...</td>\n",
       "      <td>...</td>\n",
       "      <td>...</td>\n",
       "    </tr>\n",
       "    <tr>\n",
       "      <th>5441</th>\n",
       "      <td>5221908</td>\n",
       "      <td>Varjão</td>\n",
       "      <td>-17.0471</td>\n",
       "      <td>-49.6312</td>\n",
       "      <td>0</td>\n",
       "      <td>52</td>\n",
       "    </tr>\n",
       "    <tr>\n",
       "      <th>5488</th>\n",
       "      <td>5222005</td>\n",
       "      <td>Vianópolis</td>\n",
       "      <td>-16.7405</td>\n",
       "      <td>-48.5159</td>\n",
       "      <td>0</td>\n",
       "      <td>52</td>\n",
       "    </tr>\n",
       "    <tr>\n",
       "      <th>5492</th>\n",
       "      <td>5222054</td>\n",
       "      <td>Vicentinópolis</td>\n",
       "      <td>-17.7322</td>\n",
       "      <td>-49.8047</td>\n",
       "      <td>0</td>\n",
       "      <td>52</td>\n",
       "    </tr>\n",
       "    <tr>\n",
       "      <th>5504</th>\n",
       "      <td>5222203</td>\n",
       "      <td>Vila Boa</td>\n",
       "      <td>-15.0387</td>\n",
       "      <td>-47.0520</td>\n",
       "      <td>0</td>\n",
       "      <td>52</td>\n",
       "    </tr>\n",
       "    <tr>\n",
       "      <th>5513</th>\n",
       "      <td>5222302</td>\n",
       "      <td>Vila Propício</td>\n",
       "      <td>-15.4542</td>\n",
       "      <td>-48.8819</td>\n",
       "      <td>0</td>\n",
       "      <td>52</td>\n",
       "    </tr>\n",
       "  </tbody>\n",
       "</table>\n",
       "<p>247 rows × 6 columns</p>\n",
       "</div>"
      ],
      "text/plain": [
       "      codigo_ibge                nome  latitude  longitude  capital  codigo_uf\n",
       "0         5200050     Abadia de Goiás  -16.7573   -49.4412        0         52\n",
       "2         5200100           Abadiânia  -16.1970   -48.7057        0         52\n",
       "27        5200134             Acreúna  -17.3960   -50.3749        0         52\n",
       "31        5200159           Adelândia  -16.4127   -50.1657        0         52\n",
       "57        5200175  Água Fria de Goiás  -14.9778   -47.7823        0         52\n",
       "...           ...                 ...       ...        ...      ...        ...\n",
       "5441      5221908              Varjão  -17.0471   -49.6312        0         52\n",
       "5488      5222005          Vianópolis  -16.7405   -48.5159        0         52\n",
       "5492      5222054      Vicentinópolis  -17.7322   -49.8047        0         52\n",
       "5504      5222203            Vila Boa  -15.0387   -47.0520        0         52\n",
       "5513      5222302       Vila Propício  -15.4542   -48.8819        0         52\n",
       "\n",
       "[247 rows x 6 columns]"
      ]
     },
     "execution_count": 25,
     "metadata": {},
     "output_type": "execute_result"
    }
   ],
   "source": [
    "covid[covid['codigo_uf'] > 51] # filtrar dados"
   ]
  },
  {
   "cell_type": "code",
   "execution_count": 30,
   "id": "a1b3c608-248d-474d-9502-07dea99e3d9d",
   "metadata": {},
   "outputs": [
    {
     "data": {
      "text/html": [
       "<div>\n",
       "<style scoped>\n",
       "    .dataframe tbody tr th:only-of-type {\n",
       "        vertical-align: middle;\n",
       "    }\n",
       "\n",
       "    .dataframe tbody tr th {\n",
       "        vertical-align: top;\n",
       "    }\n",
       "\n",
       "    .dataframe thead th {\n",
       "        text-align: right;\n",
       "    }\n",
       "</style>\n",
       "<table border=\"1\" class=\"dataframe\">\n",
       "  <thead>\n",
       "    <tr style=\"text-align: right;\">\n",
       "      <th></th>\n",
       "      <th>codigo_ibge</th>\n",
       "      <th>nome</th>\n",
       "      <th>latitude</th>\n",
       "      <th>longitude</th>\n",
       "      <th>capital</th>\n",
       "      <th>codigo_uf</th>\n",
       "    </tr>\n",
       "  </thead>\n",
       "  <tbody>\n",
       "    <tr>\n",
       "      <th>1</th>\n",
       "      <td>3100104</td>\n",
       "      <td>Abadia dos Dourados</td>\n",
       "      <td>-18.48310</td>\n",
       "      <td>-47.3916</td>\n",
       "      <td>0</td>\n",
       "      <td>31</td>\n",
       "    </tr>\n",
       "    <tr>\n",
       "      <th>3</th>\n",
       "      <td>3100203</td>\n",
       "      <td>Abaeté</td>\n",
       "      <td>-19.15510</td>\n",
       "      <td>-45.4444</td>\n",
       "      <td>0</td>\n",
       "      <td>31</td>\n",
       "    </tr>\n",
       "    <tr>\n",
       "      <th>5</th>\n",
       "      <td>2300101</td>\n",
       "      <td>Abaiara</td>\n",
       "      <td>-7.34588</td>\n",
       "      <td>-39.0416</td>\n",
       "      <td>0</td>\n",
       "      <td>23</td>\n",
       "    </tr>\n",
       "    <tr>\n",
       "      <th>6</th>\n",
       "      <td>2900108</td>\n",
       "      <td>Abaíra</td>\n",
       "      <td>-13.24880</td>\n",
       "      <td>-41.6619</td>\n",
       "      <td>0</td>\n",
       "      <td>29</td>\n",
       "    </tr>\n",
       "    <tr>\n",
       "      <th>7</th>\n",
       "      <td>2900207</td>\n",
       "      <td>Abaré</td>\n",
       "      <td>-8.72073</td>\n",
       "      <td>-39.1162</td>\n",
       "      <td>0</td>\n",
       "      <td>29</td>\n",
       "    </tr>\n",
       "    <tr>\n",
       "      <th>...</th>\n",
       "      <td>...</td>\n",
       "      <td>...</td>\n",
       "      <td>...</td>\n",
       "      <td>...</td>\n",
       "      <td>...</td>\n",
       "      <td>...</td>\n",
       "    </tr>\n",
       "    <tr>\n",
       "      <th>5565</th>\n",
       "      <td>2933604</td>\n",
       "      <td>Xique-Xique</td>\n",
       "      <td>-10.82300</td>\n",
       "      <td>-42.7245</td>\n",
       "      <td>0</td>\n",
       "      <td>29</td>\n",
       "    </tr>\n",
       "    <tr>\n",
       "      <th>5566</th>\n",
       "      <td>2517407</td>\n",
       "      <td>Zabelê</td>\n",
       "      <td>-8.07901</td>\n",
       "      <td>-37.1057</td>\n",
       "      <td>0</td>\n",
       "      <td>25</td>\n",
       "    </tr>\n",
       "    <tr>\n",
       "      <th>5567</th>\n",
       "      <td>3557154</td>\n",
       "      <td>Zacarias</td>\n",
       "      <td>-21.05060</td>\n",
       "      <td>-50.0552</td>\n",
       "      <td>0</td>\n",
       "      <td>35</td>\n",
       "    </tr>\n",
       "    <tr>\n",
       "      <th>5568</th>\n",
       "      <td>2114007</td>\n",
       "      <td>Zé Doca</td>\n",
       "      <td>-3.27014</td>\n",
       "      <td>-45.6553</td>\n",
       "      <td>0</td>\n",
       "      <td>21</td>\n",
       "    </tr>\n",
       "    <tr>\n",
       "      <th>5569</th>\n",
       "      <td>4219853</td>\n",
       "      <td>Zortéa</td>\n",
       "      <td>-27.45210</td>\n",
       "      <td>-51.5520</td>\n",
       "      <td>0</td>\n",
       "      <td>42</td>\n",
       "    </tr>\n",
       "  </tbody>\n",
       "</table>\n",
       "<p>4732 rows × 6 columns</p>\n",
       "</div>"
      ],
      "text/plain": [
       "      codigo_ibge                 nome  latitude  longitude  capital  \\\n",
       "1         3100104  Abadia dos Dourados -18.48310   -47.3916        0   \n",
       "3         3100203               Abaeté -19.15510   -45.4444        0   \n",
       "5         2300101              Abaiara  -7.34588   -39.0416        0   \n",
       "6         2900108               Abaíra -13.24880   -41.6619        0   \n",
       "7         2900207                Abaré  -8.72073   -39.1162        0   \n",
       "...           ...                  ...       ...        ...      ...   \n",
       "5565      2933604          Xique-Xique -10.82300   -42.7245        0   \n",
       "5566      2517407               Zabelê  -8.07901   -37.1057        0   \n",
       "5567      3557154             Zacarias -21.05060   -50.0552        0   \n",
       "5568      2114007              Zé Doca  -3.27014   -45.6553        0   \n",
       "5569      4219853               Zortéa -27.45210   -51.5520        0   \n",
       "\n",
       "      codigo_uf  \n",
       "1            31  \n",
       "3            31  \n",
       "5            23  \n",
       "6            29  \n",
       "7            29  \n",
       "...         ...  \n",
       "5565         29  \n",
       "5566         25  \n",
       "5567         35  \n",
       "5568         21  \n",
       "5569         42  \n",
       "\n",
       "[4732 rows x 6 columns]"
      ]
     },
     "execution_count": 30,
     "metadata": {},
     "output_type": "execute_result"
    }
   ],
   "source": [
    "covid[(covid['codigo_uf'] > 20) & (covid['codigo_uf'] < 51)]"
   ]
  },
  {
   "cell_type": "code",
   "execution_count": 58,
   "id": "323aeabc-5194-4050-ab4c-31300c391a93",
   "metadata": {},
   "outputs": [
    {
     "data": {
      "text/plain": [
       "5"
      ]
     },
     "execution_count": 58,
     "metadata": {},
     "output_type": "execute_result"
    }
   ],
   "source": [
    "covid[covid['nome'] == 'Bom Jesus'].shape[0] # para saber a quantidade de vezes que aparece a palavra na limha"
   ]
  },
  {
   "cell_type": "markdown",
   "id": "7b0d0178-db57-4c88-96d1-18254981ea2f",
   "metadata": {
    "jp-MarkdownHeadingCollapsed": true,
    "tags": []
   },
   "source": [
    "# Operações"
   ]
  },
  {
   "cell_type": "markdown",
   "id": "11ddb8e1-4527-40f7-a018-a8d36b208825",
   "metadata": {},
   "source": [
    "* <a href='https://pandas.pydata.org/docs/reference/api/pandas.Series.unique.html?'>unique</a>\n",
    "* <a href='https://pandas.pydata.org/docs/reference/api/pandas.DataFrame.mean.html'>mean</a>\n",
    "* <a href='https://pandas.pydata.org/docs/reference/api/pandas.DataFrame.apply.html'>apply</a>\n",
    "* <a href='https://pandas.pydata.org/docs/reference/api/pandas.DataFrame.value_counts.html'>value_counts</a>\n",
    "* <a href='https://pandas.pydata.org/docs/reference/api/pandas.DataFrame.sort_values.html'>sort_values</a>"
   ]
  },
  {
   "cell_type": "code",
   "execution_count": 48,
   "id": "1e9665dd-9ea9-491f-b133-0fca38c4fb61",
   "metadata": {},
   "outputs": [
    {
     "data": {
      "text/plain": [
       "array(['Abadia de Goiás', 'Abadia dos Dourados', 'Abadiânia', ...,\n",
       "       'Zacarias', 'Zé Doca', 'Zortéa'], dtype=object)"
      ]
     },
     "execution_count": 48,
     "metadata": {},
     "output_type": "execute_result"
    }
   ],
   "source": [
    "covid['nome'].unique() "
   ]
  },
  {
   "cell_type": "code",
   "execution_count": 47,
   "id": "6209796d-29a7-47fd-824e-14e652a3a5f1",
   "metadata": {},
   "outputs": [
    {
     "data": {
      "text/plain": [
       "0.004847396768402155"
      ]
     },
     "execution_count": 47,
     "metadata": {},
     "output_type": "execute_result"
    }
   ],
   "source": [
    "covid['capital'].mean() # media da coluna"
   ]
  },
  {
   "cell_type": "code",
   "execution_count": 35,
   "id": "33580bbf-818b-426f-acee-61d3eb0ff140",
   "metadata": {},
   "outputs": [
    {
     "data": {
      "text/plain": [
       "31    853\n",
       "35    645\n",
       "43    497\n",
       "29    417\n",
       "41    399\n",
       "42    295\n",
       "52    246\n",
       "22    224\n",
       "25    223\n",
       "21    217\n",
       "26    185\n",
       "23    184\n",
       "24    167\n",
       "15    144\n",
       "51    141\n",
       "17    139\n",
       "27    102\n",
       "33     92\n",
       "50     79\n",
       "32     78\n",
       "28     75\n",
       "13     62\n",
       "11     52\n",
       "12     22\n",
       "16     16\n",
       "14     15\n",
       "53      1\n",
       "Name: codigo_uf, dtype: int64"
      ]
     },
     "execution_count": 35,
     "metadata": {},
     "output_type": "execute_result"
    }
   ],
   "source": [
    "covid['codigo_uf'].value_counts() # para saber quais valores tem e a quantidade de vezes que ele aparece"
   ]
  },
  {
   "cell_type": "code",
   "execution_count": 36,
   "id": "c4e73471-7085-4e3d-9719-38d56b93c038",
   "metadata": {},
   "outputs": [
    {
     "data": {
      "text/plain": [
       "31    0.153142\n",
       "35    0.115799\n",
       "43    0.089228\n",
       "29    0.074865\n",
       "41    0.071634\n",
       "42    0.052962\n",
       "52    0.044165\n",
       "22    0.040215\n",
       "25    0.040036\n",
       "21    0.038959\n",
       "26    0.033214\n",
       "23    0.033034\n",
       "24    0.029982\n",
       "15    0.025853\n",
       "51    0.025314\n",
       "17    0.024955\n",
       "27    0.018312\n",
       "33    0.016517\n",
       "50    0.014183\n",
       "32    0.014004\n",
       "28    0.013465\n",
       "13    0.011131\n",
       "11    0.009336\n",
       "12    0.003950\n",
       "16    0.002873\n",
       "14    0.002693\n",
       "53    0.000180\n",
       "Name: codigo_uf, dtype: float64"
      ]
     },
     "execution_count": 36,
     "metadata": {},
     "output_type": "execute_result"
    }
   ],
   "source": [
    "covid['codigo_uf'].value_counts(normalize=True) # normalize retorna a informação em porcentagem"
   ]
  },
  {
   "cell_type": "code",
   "execution_count": 39,
   "id": "5ced9204-1537-40f9-b1aa-6c5754f10f76",
   "metadata": {},
   "outputs": [
    {
     "data": {
      "text/plain": [
       "codigo_uf    42\n",
       "capital       1\n",
       "dtype: int64"
      ]
     },
     "execution_count": 39,
     "metadata": {},
     "output_type": "execute_result"
    }
   ],
   "source": [
    "covid[['codigo_uf','capital']].apply(lambda x: x.max() - x.min() ) # permite aplicar uma função no dateframe inteiro ou em uma coluna "
   ]
  },
  {
   "cell_type": "code",
   "execution_count": 42,
   "id": "aed82a10-696f-4724-ac11-1ac9801e11c5",
   "metadata": {},
   "outputs": [
    {
     "data": {
      "text/plain": [
       "3406    11\n",
       "4627    11\n",
       "1428    11\n",
       "4039    11\n",
       "5193    11\n",
       "        ..\n",
       "2212    52\n",
       "2218    52\n",
       "2235    52\n",
       "2033    52\n",
       "755     53\n",
       "Name: codigo_uf, Length: 5570, dtype: int64"
      ]
     },
     "execution_count": 42,
     "metadata": {},
     "output_type": "execute_result"
    }
   ],
   "source": [
    "covid['codigo_uf'].sort_values(ascending=True) # para ordenar valores do menor para o maior em apenas uma coluna"
   ]
  },
  {
   "cell_type": "code",
   "execution_count": 44,
   "id": "67f3b8a5-43d2-4eca-8614-d3d3f78c2744",
   "metadata": {},
   "outputs": [
    {
     "data": {
      "text/html": [
       "<div>\n",
       "<style scoped>\n",
       "    .dataframe tbody tr th:only-of-type {\n",
       "        vertical-align: middle;\n",
       "    }\n",
       "\n",
       "    .dataframe tbody tr th {\n",
       "        vertical-align: top;\n",
       "    }\n",
       "\n",
       "    .dataframe thead th {\n",
       "        text-align: right;\n",
       "    }\n",
       "</style>\n",
       "<table border=\"1\" class=\"dataframe\">\n",
       "  <thead>\n",
       "    <tr style=\"text-align: right;\">\n",
       "      <th></th>\n",
       "      <th>codigo_ibge</th>\n",
       "      <th>nome</th>\n",
       "      <th>latitude</th>\n",
       "      <th>longitude</th>\n",
       "      <th>capital</th>\n",
       "      <th>codigo_uf</th>\n",
       "    </tr>\n",
       "  </thead>\n",
       "  <tbody>\n",
       "    <tr>\n",
       "      <th>3406</th>\n",
       "      <td>1100502</td>\n",
       "      <td>Novo Horizonte do Oeste</td>\n",
       "      <td>-11.6961</td>\n",
       "      <td>-61.9951</td>\n",
       "      <td>0</td>\n",
       "      <td>11</td>\n",
       "    </tr>\n",
       "    <tr>\n",
       "      <th>4627</th>\n",
       "      <td>1101484</td>\n",
       "      <td>São Felipe D'Oeste</td>\n",
       "      <td>-11.9023</td>\n",
       "      <td>-61.5026</td>\n",
       "      <td>0</td>\n",
       "      <td>11</td>\n",
       "    </tr>\n",
       "    <tr>\n",
       "      <th>1428</th>\n",
       "      <td>1100072</td>\n",
       "      <td>Corumbiara</td>\n",
       "      <td>-12.9551</td>\n",
       "      <td>-60.8947</td>\n",
       "      <td>0</td>\n",
       "      <td>11</td>\n",
       "    </tr>\n",
       "    <tr>\n",
       "      <th>4039</th>\n",
       "      <td>1101476</td>\n",
       "      <td>Primavera de Rondônia</td>\n",
       "      <td>-11.8295</td>\n",
       "      <td>-61.3153</td>\n",
       "      <td>0</td>\n",
       "      <td>11</td>\n",
       "    </tr>\n",
       "    <tr>\n",
       "      <th>5193</th>\n",
       "      <td>1101559</td>\n",
       "      <td>Teixeirópolis</td>\n",
       "      <td>-10.9056</td>\n",
       "      <td>-62.2420</td>\n",
       "      <td>0</td>\n",
       "      <td>11</td>\n",
       "    </tr>\n",
       "    <tr>\n",
       "      <th>...</th>\n",
       "      <td>...</td>\n",
       "      <td>...</td>\n",
       "      <td>...</td>\n",
       "      <td>...</td>\n",
       "      <td>...</td>\n",
       "      <td>...</td>\n",
       "    </tr>\n",
       "    <tr>\n",
       "      <th>2212</th>\n",
       "      <td>5210000</td>\n",
       "      <td>Inhumas</td>\n",
       "      <td>-16.3611</td>\n",
       "      <td>-49.5001</td>\n",
       "      <td>0</td>\n",
       "      <td>52</td>\n",
       "    </tr>\n",
       "    <tr>\n",
       "      <th>2218</th>\n",
       "      <td>5210109</td>\n",
       "      <td>Ipameri</td>\n",
       "      <td>-17.7215</td>\n",
       "      <td>-48.1581</td>\n",
       "      <td>0</td>\n",
       "      <td>52</td>\n",
       "    </tr>\n",
       "    <tr>\n",
       "      <th>2235</th>\n",
       "      <td>5210158</td>\n",
       "      <td>Ipiranga de Goiás</td>\n",
       "      <td>-15.1689</td>\n",
       "      <td>-49.6695</td>\n",
       "      <td>0</td>\n",
       "      <td>52</td>\n",
       "    </tr>\n",
       "    <tr>\n",
       "      <th>2033</th>\n",
       "      <td>5209457</td>\n",
       "      <td>Guarinos</td>\n",
       "      <td>-14.7292</td>\n",
       "      <td>-49.7006</td>\n",
       "      <td>0</td>\n",
       "      <td>52</td>\n",
       "    </tr>\n",
       "    <tr>\n",
       "      <th>755</th>\n",
       "      <td>5300108</td>\n",
       "      <td>Brasília</td>\n",
       "      <td>-15.7795</td>\n",
       "      <td>-47.9297</td>\n",
       "      <td>1</td>\n",
       "      <td>53</td>\n",
       "    </tr>\n",
       "  </tbody>\n",
       "</table>\n",
       "<p>5570 rows × 6 columns</p>\n",
       "</div>"
      ],
      "text/plain": [
       "      codigo_ibge                     nome  latitude  longitude  capital  \\\n",
       "3406      1100502  Novo Horizonte do Oeste  -11.6961   -61.9951        0   \n",
       "4627      1101484       São Felipe D'Oeste  -11.9023   -61.5026        0   \n",
       "1428      1100072               Corumbiara  -12.9551   -60.8947        0   \n",
       "4039      1101476    Primavera de Rondônia  -11.8295   -61.3153        0   \n",
       "5193      1101559            Teixeirópolis  -10.9056   -62.2420        0   \n",
       "...           ...                      ...       ...        ...      ...   \n",
       "2212      5210000                  Inhumas  -16.3611   -49.5001        0   \n",
       "2218      5210109                  Ipameri  -17.7215   -48.1581        0   \n",
       "2235      5210158        Ipiranga de Goiás  -15.1689   -49.6695        0   \n",
       "2033      5209457                 Guarinos  -14.7292   -49.7006        0   \n",
       "755       5300108                 Brasília  -15.7795   -47.9297        1   \n",
       "\n",
       "      codigo_uf  \n",
       "3406         11  \n",
       "4627         11  \n",
       "1428         11  \n",
       "4039         11  \n",
       "5193         11  \n",
       "...         ...  \n",
       "2212         52  \n",
       "2218         52  \n",
       "2235         52  \n",
       "2033         52  \n",
       "755          53  \n",
       "\n",
       "[5570 rows x 6 columns]"
      ]
     },
     "execution_count": 44,
     "metadata": {},
     "output_type": "execute_result"
    }
   ],
   "source": [
    "covid.sort_values(by='codigo_uf',ascending=True) #organizou todo o dataframe baseado em uma coluna"
   ]
  },
  {
   "cell_type": "code",
   "execution_count": 54,
   "id": "6e18a6e2-418e-4908-be27-d0e2ecbd618f",
   "metadata": {},
   "outputs": [
    {
     "data": {
      "text/plain": [
       "Bom Jesus            5\n",
       "São Domingos         5\n",
       "Planalto             4\n",
       "Santa Helena         4\n",
       "São Francisco        4\n",
       "                    ..\n",
       "Garrafão do Norte    1\n",
       "Garopaba             1\n",
       "Garibaldi            1\n",
       "Garça                1\n",
       "Zortéa               1\n",
       "Name: nome, Length: 5299, dtype: int64"
      ]
     },
     "execution_count": 54,
     "metadata": {},
     "output_type": "execute_result"
    }
   ],
   "source": [
    "covid['nome'].value_counts()"
   ]
  },
  {
   "cell_type": "markdown",
   "id": "ad8a9b56-8e20-4054-ba6e-4b163561208f",
   "metadata": {
    "tags": []
   },
   "source": [
    "# Gráficos\n"
   ]
  },
  {
   "cell_type": "markdown",
   "id": "b26a8c5f-3115-4c40-a129-a92d7a4cbe94",
   "metadata": {},
   "source": [
    "https://pandas.pydata.org/pandas-docs/stable/user_guide/visualization.html#visualization"
   ]
  },
  {
   "cell_type": "code",
   "execution_count": 51,
   "id": "64eff07b-4189-4f77-acd9-d77553b1c1dc",
   "metadata": {},
   "outputs": [
    {
     "data": {
      "text/plain": [
       "<AxesSubplot:>"
      ]
     },
     "execution_count": 51,
     "metadata": {},
     "output_type": "execute_result"
    },
    {
     "data": {
      "image/png": "[encoded data removed]",
      "text/plain": [
       "<Figure size 432x288 with 1 Axes>"
      ]
     },
     "metadata": {
      "needs_background": "light"
     },
     "output_type": "display_data"
    }
   ],
   "source": [
    "covid['nome'].value_counts().plot() "
   ]
  },
  {
   "cell_type": "code",
   "execution_count": 52,
   "id": "5e8ecb62-f8e4-480a-bed5-3c1b7a20384e",
   "metadata": {},
   "outputs": [
    {
     "data": {
      "text/plain": [
       "<AxesSubplot:>"
      ]
     },
     "execution_count": 52,
     "metadata": {},
     "output_type": "execute_result"
    },
    {
     "data": {
      "image/png": "[encoded data removed]",
      "text/plain": [
       "<Figure size 432x288 with 1 Axes>"
      ]
     },
     "metadata": {
      "needs_background": "light"
     },
     "output_type": "display_data"
    }
   ],
   "source": [
    "covid['codigo_uf'].value_counts().plot(kind='bar') "
   ]
  },
  {
   "cell_type": "code",
   "execution_count": 53,
   "id": "cd625c88-47e8-417f-930b-9cfccc416f1c",
   "metadata": {},
   "outputs": [
    {
     "data": {
      "text/plain": [
       "<AxesSubplot:ylabel='Frequency'>"
      ]
     },
     "execution_count": 53,
     "metadata": {},
     "output_type": "execute_result"
    },
    {
     "data": {
      "image/png": "[encoded data removed]",
      "text/plain": [
       "<Figure size 432x288 with 1 Axes>"
      ]
     },
     "metadata": {
      "needs_background": "light"
     },
     "output_type": "display_data"
    }
   ],
   "source": [
    "covid['codigo_uf'].value_counts().plot(kind='hist') "
   ]
  },
  {
   "cell_type": "markdown",
   "id": "85163d4c-f18e-462c-b4a0-fceb285d288b",
   "metadata": {},
   "source": [
    "# Agrupamento (Group By)"
   ]
  },
  {
   "cell_type": "code",
   "execution_count": 62,
   "id": "889a0593-6e72-4efa-8ed1-98bd7c363afa",
   "metadata": {},
   "outputs": [
    {
     "data": {
      "text/html": [
       "<div>\n",
       "<style scoped>\n",
       "    .dataframe tbody tr th:only-of-type {\n",
       "        vertical-align: middle;\n",
       "    }\n",
       "\n",
       "    .dataframe tbody tr th {\n",
       "        vertical-align: top;\n",
       "    }\n",
       "\n",
       "    .dataframe thead th {\n",
       "        text-align: right;\n",
       "    }\n",
       "</style>\n",
       "<table border=\"1\" class=\"dataframe\">\n",
       "  <thead>\n",
       "    <tr style=\"text-align: right;\">\n",
       "      <th></th>\n",
       "      <th>codigo_ibge</th>\n",
       "      <th>latitude</th>\n",
       "      <th>longitude</th>\n",
       "      <th>capital</th>\n",
       "      <th>codigo_uf</th>\n",
       "    </tr>\n",
       "    <tr>\n",
       "      <th>nome</th>\n",
       "      <th></th>\n",
       "      <th></th>\n",
       "      <th></th>\n",
       "      <th></th>\n",
       "      <th></th>\n",
       "    </tr>\n",
       "  </thead>\n",
       "  <tbody>\n",
       "    <tr>\n",
       "      <th>Abadia de Goiás</th>\n",
       "      <td>5200050.0</td>\n",
       "      <td>-16.75730</td>\n",
       "      <td>-49.4412</td>\n",
       "      <td>0.0</td>\n",
       "      <td>52.0</td>\n",
       "    </tr>\n",
       "    <tr>\n",
       "      <th>Abadia dos Dourados</th>\n",
       "      <td>3100104.0</td>\n",
       "      <td>-18.48310</td>\n",
       "      <td>-47.3916</td>\n",
       "      <td>0.0</td>\n",
       "      <td>31.0</td>\n",
       "    </tr>\n",
       "    <tr>\n",
       "      <th>Abadiânia</th>\n",
       "      <td>5200100.0</td>\n",
       "      <td>-16.19700</td>\n",
       "      <td>-48.7057</td>\n",
       "      <td>0.0</td>\n",
       "      <td>52.0</td>\n",
       "    </tr>\n",
       "    <tr>\n",
       "      <th>Abaetetuba</th>\n",
       "      <td>1500107.0</td>\n",
       "      <td>-1.72183</td>\n",
       "      <td>-48.8788</td>\n",
       "      <td>0.0</td>\n",
       "      <td>15.0</td>\n",
       "    </tr>\n",
       "    <tr>\n",
       "      <th>Abaeté</th>\n",
       "      <td>3100203.0</td>\n",
       "      <td>-19.15510</td>\n",
       "      <td>-45.4444</td>\n",
       "      <td>0.0</td>\n",
       "      <td>31.0</td>\n",
       "    </tr>\n",
       "    <tr>\n",
       "      <th>...</th>\n",
       "      <td>...</td>\n",
       "      <td>...</td>\n",
       "      <td>...</td>\n",
       "      <td>...</td>\n",
       "      <td>...</td>\n",
       "    </tr>\n",
       "    <tr>\n",
       "      <th>Áurea</th>\n",
       "      <td>4301552.0</td>\n",
       "      <td>-27.69360</td>\n",
       "      <td>-52.0505</td>\n",
       "      <td>0.0</td>\n",
       "      <td>43.0</td>\n",
       "    </tr>\n",
       "    <tr>\n",
       "      <th>Ângulo</th>\n",
       "      <td>4101150.0</td>\n",
       "      <td>-23.19460</td>\n",
       "      <td>-51.9154</td>\n",
       "      <td>0.0</td>\n",
       "      <td>41.0</td>\n",
       "    </tr>\n",
       "    <tr>\n",
       "      <th>Érico Cardoso</th>\n",
       "      <td>2900504.0</td>\n",
       "      <td>-13.42150</td>\n",
       "      <td>-42.1352</td>\n",
       "      <td>0.0</td>\n",
       "      <td>29.0</td>\n",
       "    </tr>\n",
       "    <tr>\n",
       "      <th>Óbidos</th>\n",
       "      <td>1505106.0</td>\n",
       "      <td>-1.90107</td>\n",
       "      <td>-55.5208</td>\n",
       "      <td>0.0</td>\n",
       "      <td>15.0</td>\n",
       "    </tr>\n",
       "    <tr>\n",
       "      <th>Óleo</th>\n",
       "      <td>3533809.0</td>\n",
       "      <td>-22.94350</td>\n",
       "      <td>-49.3419</td>\n",
       "      <td>0.0</td>\n",
       "      <td>35.0</td>\n",
       "    </tr>\n",
       "  </tbody>\n",
       "</table>\n",
       "<p>5299 rows × 5 columns</p>\n",
       "</div>"
      ],
      "text/plain": [
       "                     codigo_ibge  latitude  longitude  capital  codigo_uf\n",
       "nome                                                                     \n",
       "Abadia de Goiás        5200050.0 -16.75730   -49.4412      0.0       52.0\n",
       "Abadia dos Dourados    3100104.0 -18.48310   -47.3916      0.0       31.0\n",
       "Abadiânia              5200100.0 -16.19700   -48.7057      0.0       52.0\n",
       "Abaetetuba             1500107.0  -1.72183   -48.8788      0.0       15.0\n",
       "Abaeté                 3100203.0 -19.15510   -45.4444      0.0       31.0\n",
       "...                          ...       ...        ...      ...        ...\n",
       "Áurea                  4301552.0 -27.69360   -52.0505      0.0       43.0\n",
       "Ângulo                 4101150.0 -23.19460   -51.9154      0.0       41.0\n",
       "Érico Cardoso          2900504.0 -13.42150   -42.1352      0.0       29.0\n",
       "Óbidos                 1505106.0  -1.90107   -55.5208      0.0       15.0\n",
       "Óleo                   3533809.0 -22.94350   -49.3419      0.0       35.0\n",
       "\n",
       "[5299 rows x 5 columns]"
      ]
     },
     "execution_count": 62,
     "metadata": {},
     "output_type": "execute_result"
    }
   ],
   "source": [
    "covid.groupby(['nome']).mean() # groupby == agrupar por # groupby tem que vir sempre com uma operação matemática, ex: .mean(), .sum() ..."
   ]
  },
  {
   "cell_type": "code",
   "execution_count": 61,
   "id": "60266711-4c65-49fd-b616-35e79f25f138",
   "metadata": {},
   "outputs": [
    {
     "data": {
      "text/plain": [
       "nome\n",
       "Abadia de Goiás        52.0\n",
       "Abadia dos Dourados    31.0\n",
       "Abadiânia              52.0\n",
       "Abaetetuba             15.0\n",
       "Abaeté                 31.0\n",
       "                       ... \n",
       "Áurea                  43.0\n",
       "Ângulo                 41.0\n",
       "Érico Cardoso          29.0\n",
       "Óbidos                 15.0\n",
       "Óleo                   35.0\n",
       "Name: codigo_uf, Length: 5299, dtype: float64"
      ]
     },
     "execution_count": 61,
     "metadata": {},
     "output_type": "execute_result"
    }
   ],
   "source": [
    "covid.groupby(['nome']).mean()['codigo_uf'] # para ver apenas uma coluna"
   ]
  },
  {
   "cell_type": "markdown",
   "id": "db2eddb9-5884-4c76-a263-68b61b673c86",
   "metadata": {},
   "source": [
    "# Agregações e Junções - Merge vs. Join"
   ]
  },
  {
   "cell_type": "markdown",
   "id": "b783ad12-1501-44b5-bb95-d36d85d82615",
   "metadata": {},
   "source": [
    "# Valores ausentes"
   ]
  },
  {
   "cell_type": "markdown",
   "id": "bcea39ab-2201-4ef1-b016-26f7fd8e0cb7",
   "metadata": {},
   "source": [
    "Métodos|Descrição\n",
    "-------|----------\n",
    "isnull( ) |Gere uma máscara booleana indicando valores ausentes\n",
    "notnull( ) |\tOposto de isnull()\n",
    "dropna( ) |\tRetorna uma versão filtrada dos dados\n",
    "fillna( ) |\tRetorna uma cópia dos dados com os valores ausentes preenchidos ou imputados"
   ]
  },
  {
   "cell_type": "markdown",
   "id": "50e0c947-8380-43a4-b692-11f50042d303",
   "metadata": {},
   "source": [
    "ref. https://www.youtube.com/watch?v=wnGsAOPKjLo&t=3437s"
   ]
  },
  {
   "cell_type": "code",
   "execution_count": null,
   "id": "19adc911-7d19-4792-b1c4-f5df6614f5de",
   "metadata": {},
   "outputs": [],
   "source": []
  }
 ],
 "metadata": {
  "kernelspec": {
   "display_name": "Python 3 (ipykernel)",
   "language": "python",
   "name": "python3"
  },
  "language_info": {
   "codemirror_mode": {
    "name": "ipython",
    "version": 3
   },
   "file_extension": ".py",
   "mimetype": "text/x-python",
   "name": "python",
   "nbconvert_exporter": "python",
   "pygments_lexer": "ipython3",
   "version": "3.8.10"
  }
 },
 "nbformat": 4,
 "nbformat_minor": 5
}
